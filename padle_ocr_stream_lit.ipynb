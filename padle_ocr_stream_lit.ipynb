{
  "nbformat": 4,
  "nbformat_minor": 0,
  "metadata": {
    "colab": {
      "provenance": [],
      "authorship_tag": "ABX9TyNOOtL2rCrfnIBOt+IjjC9t",
      "include_colab_link": true
    },
    "kernelspec": {
      "name": "python3",
      "display_name": "Python 3"
    },
    "language_info": {
      "name": "python"
    }
  },
  "cells": [
    {
      "cell_type": "markdown",
      "metadata": {
        "id": "view-in-github",
        "colab_type": "text"
      },
      "source": [
        "<a href=\"https://colab.research.google.com/github/MILLERMARRU/paddle_ocr/blob/main/padle_ocr_stream_lit.ipynb\" target=\"_parent\"><img src=\"https://colab.research.google.com/assets/colab-badge.svg\" alt=\"Open In Colab\"/></a>"
      ]
    },
    {
      "cell_type": "code",
      "execution_count": 26,
      "metadata": {
        "id": "8-FDIG-HsB-Q"
      },
      "outputs": [],
      "source": [
        "# 1. Instala las dependencias\n",
        "!pip install -q paddleocr\n",
        "!pip install -q paddlepaddle -f https://www.paddlepaddle.org.cn/whl/linux/mkl/avx/stable.html\n",
        "!pip install -q streamlit pyngrok python-docx opencv-python\n",
        "\n"
      ]
    },
    {
      "cell_type": "code",
      "source": [
        "!ngrok config add-authtoken 2rPOA88C1NvlhE7pXulxY6VlUMA_4LMGUuiywutna8pigaZ4A"
      ],
      "metadata": {
        "colab": {
          "base_uri": "https://localhost:8080/"
        },
        "id": "g88JEZKG1Txd",
        "outputId": "bc7e82f7-560c-4d34-a2e6-8a3e206ff2da"
      },
      "execution_count": 27,
      "outputs": [
        {
          "output_type": "stream",
          "name": "stdout",
          "text": [
            "Authtoken saved to configuration file: /root/.config/ngrok/ngrok.yml\n"
          ]
        }
      ]
    },
    {
      "cell_type": "code",
      "source": [
        "from pathlib import Path\n",
        "\n",
        "app_code = \"\"\"\n",
        "\n",
        "# app.py\n",
        "from paddleocr import PaddleOCR\n",
        "from PIL import Image\n",
        "import streamlit as st\n",
        "import numpy as np\n",
        "from docx import Document\n",
        "from io import BytesIO\n",
        "from pathlib import Path\n",
        "\n",
        "@st.cache_resource\n",
        "def load_ocr():\n",
        "    return PaddleOCR(\n",
        "        use_doc_orientation_classify=False,\n",
        "        use_doc_unwarping=False,\n",
        "        use_textline_orientation=False\n",
        "    )\n",
        "\n",
        "def generar_docx(texto):\n",
        "    doc = Document()\n",
        "    doc.add_paragraph(texto)\n",
        "    buffer = BytesIO()\n",
        "    doc.save(buffer)\n",
        "    buffer.seek(0)\n",
        "    return buffer\n",
        "\n",
        "ocr = load_ocr()\n",
        "\n",
        "st.set_page_config(page_title=\"OCR con PaddleOCR\", layout=\"wide\")\n",
        "st.title(\"📄 OCR con PaddleOCR\")\n",
        "\n",
        "if \"descargado\" not in st.session_state:\n",
        "    st.session_state.descargado = False\n",
        "\n",
        "uploaded_file = st.file_uploader(\"📤 Sube una imagen\", type=[\"png\", \"jpg\", \"jpeg\"])\n",
        "\n",
        "col1, col2 = st.columns([2, 3])  # 40% imagen, 60% texto\n",
        "\n",
        "if uploaded_file:\n",
        "    try:\n",
        "        image = Image.open(uploaded_file).convert(\"RGB\")\n",
        "        image.save(\"input.jpg\")\n",
        "\n",
        "        with st.spinner(\"🔍 Procesando imagen...\"):\n",
        "            result = ocr.predict(input=\"input.jpg\")[0]\n",
        "\n",
        "        textos_detectados = result['rec_texts']\n",
        "        result.save_to_img(\"resultado_ocr.jpg\")\n",
        "\n",
        "        with col1:\n",
        "            st.image(\"resultado_ocr.jpg\", caption=\"🖼️ Imagen con cuadros\", use_container_width=True)\n",
        "\n",
        "        with col2:\n",
        "            st.markdown(\"📝 **Texto reconocido (editable)**\")\n",
        "            texto_completo = \"\\\\n\".join(textos_detectados)\n",
        "            texto_editado = st.text_area(\"Resultado OCR:\", texto_completo, height=400)\n",
        "\n",
        "            # ✅ Solo un botón de descarga\n",
        "            buffer = generar_docx(texto_editado)\n",
        "            # Botón de descarga\n",
        "            downloaded = st.download_button(\n",
        "                label=\"📥 Descargar como .docx\",\n",
        "                data=buffer,\n",
        "                file_name=\"resultado_ocr.docx\",\n",
        "                mime=\"application/vnd.openxmlformats-officedocument.wordprocessingml.document\"\n",
        "            )\n",
        "\n",
        "            # Reiniciar app después de descarga\n",
        "            if downloaded:\n",
        "                st.success(\"✅ Documento descargado. Reinicia para procesar otra imagen.\")\n",
        "                st.session_state.descargado = True\n",
        "                st.experimental_rerun()\n",
        "\n",
        "\n",
        "    except Exception as e:\n",
        "        st.error(f\"❌ Error procesando la imagen.\\\\n\\\\n{e}\")\n",
        "else:\n",
        "    st.info(\"👆 Por favor, sube una imagen para empezar.\")\n",
        "\n",
        "# Si se pidió reiniciar\n",
        "if st.session_state.descargado:\n",
        "    st.session_state.clear()\n",
        "    st.experimental_rerun()\n",
        "\n",
        "\n",
        "\n",
        "\"\"\"\n",
        "\n",
        "Path(\"app.py\").write_text(app_code)\n"
      ],
      "metadata": {
        "colab": {
          "base_uri": "https://localhost:8080/"
        },
        "id": "76FAcTjttfIF",
        "outputId": "609aced9-2bbd-463c-df7b-e48084466259"
      },
      "execution_count": 87,
      "outputs": [
        {
          "output_type": "execute_result",
          "data": {
            "text/plain": [
              "2455"
            ]
          },
          "metadata": {},
          "execution_count": 87
        }
      ]
    },
    {
      "cell_type": "code",
      "source": [
        "import os\n",
        "import time\n",
        "import threading\n",
        "from pyngrok import ngrok\n",
        "\n",
        "# Paso 1: Mata túneles anteriores y Streamlit previos\n",
        "ngrok.kill()\n",
        "!pkill streamlit\n",
        "\n",
        "# Paso 2: Función para ejecutar Streamlit en un hilo separado\n",
        "def run_streamlit():\n",
        "    os.system('streamlit run app.py --server.port=8504')\n",
        "\n",
        "# Paso 3: Lanzar Streamlit en segundo plano\n",
        "thread = threading.Thread(target=run_streamlit)\n",
        "thread.start()\n",
        "\n",
        "# Paso 4: Espera para que Streamlit se inicie\n",
        "time.sleep(5)\n",
        "\n",
        "# Paso 5: Abre el túnel ngrok\n",
        "public_url = ngrok.connect(8504)\n",
        "print(f\"🚀 Tu app está corriendo en: {public_url}\")\n",
        "\n"
      ],
      "metadata": {
        "colab": {
          "base_uri": "https://localhost:8080/"
        },
        "id": "Mcs6ZQAAtgrR",
        "outputId": "a7165011-1bd3-4eec-9b77-7e36670fd835"
      },
      "execution_count": 86,
      "outputs": [
        {
          "output_type": "stream",
          "name": "stdout",
          "text": [
            "🚀 Tu app está corriendo en: NgrokTunnel: \"https://3868e452d075.ngrok-free.app\" -> \"http://localhost:8504\"\n"
          ]
        }
      ]
    }
  ]
}